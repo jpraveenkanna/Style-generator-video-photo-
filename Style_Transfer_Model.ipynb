{
  "nbformat": 4,
  "nbformat_minor": 0,
  "metadata": {
    "colab": {
      "name": "Style_Transfer_Model.ipynb",
      "provenance": [],
      "authorship_tag": "ABX9TyOiXReBV5r/72OFGIl4goZ7",
      "include_colab_link": true
    },
    "kernelspec": {
      "name": "python3",
      "display_name": "Python 3"
    },
    "accelerator": "GPU"
  },
  "cells": [
    {
      "cell_type": "markdown",
      "metadata": {
        "id": "view-in-github",
        "colab_type": "text"
      },
      "source": [
        "<a href=\"https://colab.research.google.com/github/jpraveenkanna/Style_generator-Video_and_Image/blob/master/Style_Transfer_Model.ipynb\" target=\"_parent\"><img src=\"https://colab.research.google.com/assets/colab-badge.svg\" alt=\"Open In Colab\"/></a>"
      ]
    },
    {
      "cell_type": "code",
      "metadata": {
        "id": "ptAaU5dGFxBM",
        "colab_type": "code",
        "colab": {}
      },
      "source": [
        "#Dependency\n",
        "!pip install flask-ngrok"
      ],
      "execution_count": 0,
      "outputs": []
    },
    {
      "cell_type": "code",
      "metadata": {
        "id": "hrlHLgkZGdsY",
        "colab_type": "code",
        "colab": {
          "base_uri": "https://localhost:8080/",
          "height": 156
        },
        "outputId": "d1a9982e-0148-44fc-aa13-b5d9cbec6e1e"
      },
      "source": [
        "#Libraries\n",
        "\n",
        "#colab specific\n",
        "%tensorflow_version 2.x\n",
        "from google.colab.patches import cv2_imshow\n",
        "\n",
        "import cv2\n",
        "from __future__ import absolute_import, division, print_function\n",
        "import numpy as np\n",
        "import tensorflow as tf\n",
        "import tensorflow_hub as hub\n",
        "import json\n",
        "from flask import Flask, render_template,request\n",
        "from flask_ngrok import run_with_ngrok\n",
        "\n",
        "app = Flask(__name__)\n",
        "run_with_ngrok(app)\n",
        "\n",
        "\n",
        "\n",
        "#global\n",
        "#style_model = \"/tmp/tfhub_modules/f843094219bf78a99e8ea6c8d71f1bc74f07101a\"\n",
        "style_model = 'https://tfhub.dev/google/magenta/arbitrary-image-stylization-v1-256/2'\n",
        "hub_module = hub.load(style_model)\n",
        "\n",
        "def run_inference(source_image,source_style):\n",
        "  style_input = source_style\n",
        "  input_image = source_image\n",
        "\n",
        "\n",
        "  style_height = style_width = 256\n",
        "  style_img = style_input.astype(np.float32)[np.newaxis, ...]\n",
        "  if style_img.max() > 1.0:\n",
        "      style_img = style_img / 255.\n",
        "  if len(style_img.shape) == 3:\n",
        "    style_img = tf.stack([style_img, style_img, style_img], axis=-1)\n",
        "  style = tf.image.resize(style_img, (style_height,style_width), preserve_aspect_ratio=True)\n",
        "\n",
        "  #maintaining original size of input image\n",
        "  image_size=(input_image.shape[1],input_image.shape[0])\n",
        "  img = input_image.astype(np.float32)[np.newaxis, ...]\n",
        "  if img.max() > 1.0:\n",
        "      img = img / 255.\n",
        "  if len(img.shape) == 3:\n",
        "    img = tf.stack([img, img, img], axis=-1)\n",
        "  img = tf.image.resize(img, image_size, preserve_aspect_ratio=True)\n",
        "  outputs = hub_module(tf.constant(img), tf.constant(style))\n",
        "  stylized_image = outputs[0]\n",
        "  img_background = cv2.normalize(src=stylized_image[0].numpy(), dst=None, alpha=0, beta=255, norm_type=cv2.NORM_MINMAX, dtype=cv2.CV_8UC1)\n",
        "  final_style = cv2.resize(img_background,(input_image.shape[1],input_image.shape[0]),fx=0,fy=0, interpolation = cv2.INTER_CUBIC)\n",
        "\n",
        "\n",
        "  #return stylized image\n",
        "  data = json.dumps({\"style_image\": final_style.tolist()})\n",
        "  return data\n",
        "\n",
        "\n",
        "@app.route('/')\n",
        "def index():\n",
        "  return \"OK\"\n",
        "\n",
        "\n",
        "@app.route(\"/style\", methods=[\"POST\"])\n",
        "def style():\n",
        "  if request.method == 'POST':\n",
        "    data = request.get_json()\n",
        "    images = json.loads(data)\n",
        "    style_img = np.asarray(images[\"style_image\"])\n",
        "    source_img = np.asarray(images[\"source_image\"])\n",
        "    json_response = run_inference(source_img,style_img)\n",
        "\n",
        "    return json_response\n",
        "\n",
        "if __name__ == \"__main__\":\n",
        "  app.run()\n"
      ],
      "execution_count": 0,
      "outputs": [
        {
          "output_type": "stream",
          "text": [
            " * Serving Flask app \"__main__\" (lazy loading)\n",
            " * Environment: production\n",
            "\u001b[31m   WARNING: This is a development server. Do not use it in a production deployment.\u001b[0m\n",
            "\u001b[2m   Use a production WSGI server instead.\u001b[0m\n",
            " * Debug mode: off\n"
          ],
          "name": "stdout"
        },
        {
          "output_type": "stream",
          "text": [
            "INFO:werkzeug: * Running on http://127.0.0.1:5000/ (Press CTRL+C to quit)\n"
          ],
          "name": "stderr"
        },
        {
          "output_type": "stream",
          "text": [
            " * Running on http://53721dcc.ngrok.io\n",
            " * Traffic stats available on http://127.0.0.1:4040\n"
          ],
          "name": "stdout"
        }
      ]
    },
    {
      "cell_type": "code",
      "metadata": {
        "id": "KXbtV4KhHLvk",
        "colab_type": "code",
        "colab": {}
      },
      "source": [
        ""
      ],
      "execution_count": 0,
      "outputs": []
    }
  ]
}